{
 "cells": [
  {
   "cell_type": "code",
   "execution_count": 2,
   "id": "1ad13ce5-0728-4976-a66e-8610efd1f3ec",
   "metadata": {},
   "outputs": [
    {
     "name": "stdin",
     "output_type": "stream",
     "text": [
      "Enter the size of the board (N):  4\n"
     ]
    },
    {
     "name": "stdout",
     "output_type": "stream",
     "text": [
      ". Q . .\n",
      ". . . Q\n",
      "Q . . .\n",
      ". . Q .\n",
      "\n",
      ". . Q .\n",
      "Q . . .\n",
      ". . . Q\n",
      ". Q . .\n",
      "\n"
     ]
    }
   ],
   "source": [
    "def print_board(board):\n",
    "    for row in board:\n",
    "        print(\" \".join(\"Q\" if cell else \".\" for cell in row))\n",
    "    print()\n",
    "\n",
    "def is_safe(board, row, col, n):\n",
    "    # Check the column\n",
    "    for i in range(row):\n",
    "        if board[i][col]:\n",
    "            return False\n",
    "\n",
    "    # Check upper-left diagonal\n",
    "    for i, j in zip(range(row, -1, -1), range(col, -1, -1)):\n",
    "        if board[i][j]:\n",
    "            return False\n",
    "\n",
    "    # Check upper-right diagonal\n",
    "    for i, j in zip(range(row, -1, -1), range(col, n)):\n",
    "        if board[i][j]:\n",
    "            return False\n",
    "\n",
    "    return True\n",
    "\n",
    "def solve_n_queens(board, row, n):\n",
    "    if row == n:  # All queens are placed\n",
    "        print_board(board)\n",
    "        return True\n",
    "\n",
    "    res = False\n",
    "    for col in range(n):\n",
    "        if is_safe(board, row, col, n):\n",
    "            board[row][col] = 1  # Place queen\n",
    "            res = solve_n_queens(board, row + 1, n) or res\n",
    "            board[row][col] = 0  # Backtrack\n",
    "\n",
    "    return res\n",
    "\n",
    "def n_queens():\n",
    "    n = int(input(\"Enter the size of the board (N): \"))\n",
    "    board = [[0] * n for _ in range(n)]\n",
    "    if not solve_n_queens(board, 0, n):\n",
    "        print(\"No solution exists.\")\n",
    "\n",
    "n_queens()\n"
   ]
  },
  {
   "cell_type": "code",
   "execution_count": 7,
   "id": "0f230a3b-e4d3-4381-985a-edc7aa66e749",
   "metadata": {},
   "outputs": [
    {
     "name": "stdout",
     "output_type": "stream",
     "text": [
      "[[0, 0, 0, 0], [0, 0, 0, 0], [0, 0, 0, 0], [0, 0, 0, 0]]\n"
     ]
    }
   ],
   "source": [
    "print([[0]*4 for i in range(4)])"
   ]
  }
 ],
 "metadata": {
  "kernelspec": {
   "display_name": "Python 3 (ipykernel)",
   "language": "python",
   "name": "python3"
  },
  "language_info": {
   "codemirror_mode": {
    "name": "ipython",
    "version": 3
   },
   "file_extension": ".py",
   "mimetype": "text/x-python",
   "name": "python",
   "nbconvert_exporter": "python",
   "pygments_lexer": "ipython3",
   "version": "3.12.4"
  }
 },
 "nbformat": 4,
 "nbformat_minor": 5
}
