{
 "cells": [
  {
   "cell_type": "code",
   "execution_count": 1,
   "id": "d45e004c-9ee8-4640-a248-072db1fe280a",
   "metadata": {},
   "outputs": [
    {
     "name": "stdout",
     "output_type": "stream",
     "text": [
      "The optimal value is: 5\n"
     ]
    }
   ],
   "source": [
    "def minimax(depth, node_index, is_maximizing, scores, height):\n",
    "    # Base case: If at a terminal node, return the score\n",
    "    if depth == height:\n",
    "        return scores[node_index]\n",
    "\n",
    "    if is_maximizing:  # Maximizer's turn\n",
    "        best = float('-inf')  # Initialize to the smallest possible value\n",
    "        # Explore both children\n",
    "        for i in range(2):\n",
    "            val = minimax(depth + 1, node_index * 2 + i, False, scores, height)\n",
    "            best = max(best, val)  # Maximizer takes the maximum score\n",
    "        return best\n",
    "    else:  # Minimizer's turn\n",
    "        best = float('inf')  # Initialize to the largest possible value\n",
    "        # Explore both children\n",
    "        for i in range(2):\n",
    "            val = minimax(depth + 1, node_index * 2 + i, True, scores, height)\n",
    "            best = min(best, val)  # Minimizer takes the minimum score\n",
    "        return best\n",
    "\n",
    "\n",
    "# Example: A small game tree with scores at terminal nodes\n",
    "scores = [3, 5, 6, 9, 1, 2, 0, -1]  # Values at the leaf nodes\n",
    "tree_height = 3  # Height of the tree\n",
    "\n",
    "# Run the minimax algorithm\n",
    "optimal_value = minimax(0, 0, True, scores, tree_height)\n",
    "print(\"The optimal value is:\", optimal_value)\n"
   ]
  }
 ],
 "metadata": {
  "kernelspec": {
   "display_name": "Python 3 (ipykernel)",
   "language": "python",
   "name": "python3"
  },
  "language_info": {
   "codemirror_mode": {
    "name": "ipython",
    "version": 3
   },
   "file_extension": ".py",
   "mimetype": "text/x-python",
   "name": "python",
   "nbconvert_exporter": "python",
   "pygments_lexer": "ipython3",
   "version": "3.12.4"
  }
 },
 "nbformat": 4,
 "nbformat_minor": 5
}
