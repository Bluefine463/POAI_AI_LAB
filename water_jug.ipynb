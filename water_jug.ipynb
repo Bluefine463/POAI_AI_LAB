{
 "cells": [
  {
   "cell_type": "code",
   "execution_count": 1,
   "id": "b43d3020-7c4d-42e1-a5cc-8881effefe76",
   "metadata": {},
   "outputs": [
    {
     "name": "stdout",
     "output_type": "stream",
     "text": [
      "Current state: Jug1 = 0, Jug2 = 0\n",
      "Current state: Jug1 = 0, Jug2 = 3\n",
      "Current state: Jug1 = 3, Jug2 = 0\n",
      "Current state: Jug1 = 3, Jug2 = 3\n",
      "Current state: Jug1 = 4, Jug2 = 2\n",
      "Target achieved: Jug1 = 4, Jug2 = 2\n"
     ]
    },
    {
     "data": {
      "text/plain": [
       "True"
      ]
     },
     "execution_count": 1,
     "metadata": {},
     "output_type": "execute_result"
    }
   ],
   "source": [
    "def water_jug_dfs(jug1_capacity, jug2_capacity, target):\n",
    "    stack = []  # To store states to explore\n",
    "    visited = set()  # To keep track of visited states\n",
    "\n",
    "    # Initial state: both jugs are empty\n",
    "    stack.append((0, 0))\n",
    "\n",
    "    while stack:\n",
    "        current_state = stack.pop()  # Get the last state from the stack\n",
    "        jug1, jug2 = current_state\n",
    "\n",
    "        print(f\"Current state: Jug1 = {jug1}, Jug2 = {jug2}\")  # Print the state\n",
    "\n",
    "        if current_state in visited:  # Skip already visited states\n",
    "            continue\n",
    "\n",
    "        visited.add(current_state)  # Mark this state as visited\n",
    "\n",
    "        # Check if the target is achieved\n",
    "        if jug1 == target or jug2 == target:\n",
    "            print(f\"Target achieved: Jug1 = {jug1}, Jug2 = {jug2}\")\n",
    "            return True\n",
    "\n",
    "        # Generate all possible next states\n",
    "        next_states = [\n",
    "            (jug1_capacity, jug2),  # Fill Jug1\n",
    "            (jug1, jug2_capacity),  # Fill Jug2\n",
    "            (0, jug2),              # Empty Jug1\n",
    "            (jug1, 0),              # Empty Jug2\n",
    "            (min(jug1_capacity, jug1 + jug2), max(0, jug1 + jug2 - jug1_capacity)),  # Pour Jug2 -> Jug1\n",
    "            (max(0, jug1 + jug2 - jug2_capacity), min(jug2_capacity, jug1 + jug2))   # Pour Jug1 -> Jug2\n",
    "        ]\n",
    "\n",
    "        # Add unvisited next states to the stack\n",
    "        for state in next_states:\n",
    "            if state not in visited:\n",
    "                stack.append(state)\n",
    "\n",
    "    print(\"No solution found.\")\n",
    "    return False\n",
    "\n",
    "# Example usage\n",
    "jug1_capacity = 4\n",
    "jug2_capacity = 3\n",
    "target = 2\n",
    "\n",
    "water_jug_dfs(jug1_capacity, jug2_capacity, target)\n"
   ]
  }
 ],
 "metadata": {
  "kernelspec": {
   "display_name": "Python 3 (ipykernel)",
   "language": "python",
   "name": "python3"
  },
  "language_info": {
   "codemirror_mode": {
    "name": "ipython",
    "version": 3
   },
   "file_extension": ".py",
   "mimetype": "text/x-python",
   "name": "python",
   "nbconvert_exporter": "python",
   "pygments_lexer": "ipython3",
   "version": "3.12.4"
  }
 },
 "nbformat": 4,
 "nbformat_minor": 5
}
